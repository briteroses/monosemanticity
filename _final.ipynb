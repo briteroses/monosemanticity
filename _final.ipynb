{
 "cells": [
  {
   "cell_type": "code",
   "execution_count": 5,
   "metadata": {},
   "outputs": [
    {
     "name": "stderr",
     "output_type": "stream",
     "text": [
      "Reusing dataset openwebtext (/home/ubuntu/.cache/huggingface/datasets/openwebtext/plain_text/1.0.0/5c636399c7155da97c982d0d70ecdce30fbca66a4eb4fc768ad91f8331edac02)\n"
     ]
    }
   ],
   "source": [
    "from cui import excerpt_nodes, tokenized_sample, show_neuron_patterns\n",
    "\n",
    "mlp_neurons = excerpt_nodes()\n",
    "tokenized_sample_of_openwebtext = tokenized_sample()\n",
    "show_neuron_patterns(mlp_neurons, tokenized_sample_of_openwebtext)"
   ]
  },
  {
   "cell_type": "code",
   "execution_count": 1,
   "metadata": {},
   "outputs": [
    {
     "name": "stdout",
     "output_type": "stream",
     "text": [
      "provided neurons for concept prepositions:\n",
      "[(6, 1811)]\n",
      "neuron set original loss: 4.645487202912454\n",
      "neuron set random-ablation loss: 4.645362055361767\n",
      "neuron set scrubbed loss: 4.645538977918037\n",
      "sanity check: random-ablation loss IS NOT greater than original loss\n",
      "percent loss recovered: 141.3%\n",
      "nest adds timed out\n",
      "nest adds timed out\n",
      "provided neurons for concept prepositions:\n",
      "[(10, 2214)]\n",
      "neuron set original loss: 4.645487202912454\n",
      "neuron set random-ablation loss: 4.646719272926288\n",
      "neuron set scrubbed loss: 4.646056050362231\n",
      "sanity check: random-ablation loss IS greater than original loss\n",
      "percent loss recovered: 53.8%\n",
      "provided neurons for concept prepositions:\n",
      "[(8, 545)]\n",
      "neuron set original loss: 4.645487202912454\n",
      "neuron set random-ablation loss: 4.645209779048243\n",
      "neuron set scrubbed loss: 4.645545643628442\n",
      "sanity check: random-ablation loss IS NOT greater than original loss\n",
      "percent loss recovered: 121.0%\n",
      "provided neurons for concept prepositions:\n",
      "[(0, 1558)]\n",
      "neuron set original loss: 4.645487202912454\n",
      "neuron set random-ablation loss: 4.646509000732224\n",
      "neuron set scrubbed loss: 4.646309322474164\n",
      "sanity check: random-ablation loss IS greater than original loss\n",
      "percent loss recovered: 19.5%\n",
      "provided neurons for concept prepositions:\n",
      "[(2, 2940)]\n",
      "neuron set original loss: 4.645487202912454\n",
      "neuron set random-ablation loss: 4.645568501250693\n",
      "neuron set scrubbed loss: 4.64546867481982\n",
      "sanity check: random-ablation loss IS greater than original loss\n",
      "percent loss recovered: 122.7%\n",
      "nest adds timed out\n",
      "nest adds timed out\n",
      "provided neurons for concept prepositions:\n",
      "[(11, 2443)]\n",
      "neuron set original loss: 4.645487202912454\n",
      "neuron set random-ablation loss: 4.64575283434881\n",
      "neuron set scrubbed loss: 4.6457157648559475\n",
      "sanity check: random-ablation loss IS greater than original loss\n",
      "percent loss recovered: 13.9%\n",
      "provided neurons for concept prepositions:\n",
      "[(0, 1176)]\n",
      "neuron set original loss: 4.645487202912454\n",
      "neuron set random-ablation loss: 4.6455226834400705\n",
      "neuron set scrubbed loss: 4.64527683252478\n",
      "sanity check: random-ablation loss IS greater than original loss\n",
      "percent loss recovered: 692.9%\n",
      "provided neurons for concept prepositions:\n",
      "[(0, 627)]\n",
      "neuron set original loss: 4.645487202912454\n",
      "neuron set random-ablation loss: 4.645767788180449\n",
      "neuron set scrubbed loss: 4.6454153769617275\n",
      "sanity check: random-ablation loss IS greater than original loss\n",
      "percent loss recovered: 125.5%\n",
      "provided neurons for concept prepositions:\n",
      "[(8, 770)]\n",
      "neuron set original loss: 4.645487202912454\n",
      "neuron set random-ablation loss: 4.645699725540176\n",
      "neuron set scrubbed loss: 4.6456470780223365\n",
      "sanity check: random-ablation loss IS greater than original loss\n",
      "percent loss recovered: 24.7%\n",
      "provided neurons for concept prepositions:\n",
      "[(0, 2131)]\n",
      "neuron set original loss: 4.645487202912454\n",
      "neuron set random-ablation loss: 4.6457316420744394\n",
      "neuron set scrubbed loss: 4.645363662495234\n",
      "sanity check: random-ablation loss IS greater than original loss\n",
      "percent loss recovered: 150.5%\n"
     ]
    },
    {
     "name": "stderr",
     "output_type": "stream",
     "text": [
      "/home/ubuntu/conda/envs/remix/lib/python3.10/site-packages/torch/nn/functional.py:2916: UserWarning: reduction: 'mean' divides the total loss by both the batch size and the support size.'batchmean' divides only by the batch size, and aligns with the KL div math definition.'mean' will be changed to behave the same as 'batchmean' in the next major release.\n",
      "  warnings.warn(\n"
     ]
    },
    {
     "name": "stdout",
     "output_type": "stream",
     "text": [
      "provided neurons for concept prepositions:\n",
      "[(6, 1811)]\n",
      "neuron set original KL divergence: -7.883961897980194e-23\n",
      "neuron set random-ablation KL divergence: 5.496179128702409e-09\n",
      "neuron set scrubbed KL divergence: 1.6224912497514385e-09\n",
      "percent KL recovered: 70.4%\n",
      "nest adds timed out\n",
      "nest adds timed out\n",
      "provided neurons for concept prepositions:\n",
      "[(10, 2214)]\n",
      "neuron set original KL divergence: -7.883961897980194e-23\n",
      "neuron set random-ablation KL divergence: 1.3644785144442973e-08\n",
      "neuron set scrubbed KL divergence: 4.832735161420843e-09\n",
      "percent KL recovered: 64.5%\n",
      "provided neurons for concept prepositions:\n",
      "[(8, 545)]\n",
      "neuron set original KL divergence: -7.883961897980194e-23\n",
      "neuron set random-ablation KL divergence: 3.792585751549599e-09\n",
      "neuron set scrubbed KL divergence: 1.8033881018429974e-09\n",
      "percent KL recovered: 52.4%\n",
      "provided neurons for concept prepositions:\n",
      "[(0, 1558)]\n",
      "neuron set original KL divergence: -7.883961897980194e-23\n",
      "neuron set random-ablation KL divergence: 1.1150300209244705e-08\n",
      "neuron set scrubbed KL divergence: 8.161636869318298e-09\n",
      "percent KL recovered: 26.8%\n",
      "provided neurons for concept prepositions:\n",
      "[(2, 2940)]\n",
      "neuron set original KL divergence: -7.883961897980194e-23\n",
      "neuron set random-ablation KL divergence: 1.6691201504123704e-09\n",
      "neuron set scrubbed KL divergence: 1.0945354474444708e-09\n",
      "percent KL recovered: 34.4%\n",
      "nest adds timed out\n",
      "nest adds timed out\n",
      "provided neurons for concept prepositions:\n",
      "[(11, 2443)]\n",
      "neuron set original KL divergence: -7.883961897980194e-23\n",
      "neuron set random-ablation KL divergence: 1.1403824628285412e-08\n",
      "neuron set scrubbed KL divergence: 7.426756572847152e-09\n",
      "percent KL recovered: 34.8%\n",
      "provided neurons for concept prepositions:\n",
      "[(0, 1176)]\n",
      "neuron set original KL divergence: -7.883961897980194e-23\n",
      "neuron set random-ablation KL divergence: 1.1326084705823154e-09\n",
      "neuron set scrubbed KL divergence: 7.92194517103821e-10\n",
      "percent KL recovered: 30.0%\n",
      "provided neurons for concept prepositions:\n",
      "[(0, 627)]\n",
      "neuron set original KL divergence: -7.883961897980194e-23\n",
      "neuron set random-ablation KL divergence: 3.94692212227055e-09\n",
      "neuron set scrubbed KL divergence: 2.7837788781996965e-09\n",
      "percent KL recovered: 29.4%\n",
      "provided neurons for concept prepositions:\n",
      "[(8, 770)]\n",
      "neuron set original KL divergence: -7.883961897980194e-23\n",
      "neuron set random-ablation KL divergence: 1.2376557806543504e-09\n",
      "neuron set scrubbed KL divergence: 9.95294959999542e-10\n",
      "percent KL recovered: 19.5%\n",
      "provided neurons for concept prepositions:\n",
      "[(0, 2131)]\n",
      "neuron set original KL divergence: -7.883961897980194e-23\n",
      "neuron set random-ablation KL divergence: 2.477549282484314e-09\n",
      "neuron set scrubbed KL divergence: 1.3277059867465569e-09\n",
      "percent KL recovered: 46.4%\n"
     ]
    },
    {
     "data": {
      "text/plain": [
       "<Figure size 640x480 with 0 Axes>"
      ]
     },
     "metadata": {},
     "output_type": "display_data"
    }
   ],
   "source": [
    "from scrub import plotter\n",
    "\n",
    "neurons = [\n",
    "    (6, 1811),\n",
    "    (10, 2214),\n",
    "    (8, 545),\n",
    "    (0, 1558),\n",
    "    (2, 2940),\n",
    "    (11, 2443),\n",
    "    (0, 1176),\n",
    "    (0, 627),\n",
    "    (8, 770),\n",
    "    (0, 2131),\n",
    "]\n",
    "concept = \"prepositions\"\n",
    "plotter(neurons, concept, for_notebook=True)"
   ]
  }
 ],
 "metadata": {
  "kernelspec": {
   "display_name": "Python 3",
   "language": "python",
   "name": "python3"
  },
  "language_info": {
   "codemirror_mode": {
    "name": "ipython",
    "version": 3
   },
   "file_extension": ".py",
   "mimetype": "text/x-python",
   "name": "python",
   "nbconvert_exporter": "python",
   "pygments_lexer": "ipython3",
   "version": "3.10.8"
  },
  "orig_nbformat": 4,
  "vscode": {
   "interpreter": {
    "hash": "6ad467ea6ce724cf68e3e9460a7b5d30a577b9574f7d768503ed98371d079a52"
   }
  }
 },
 "nbformat": 4,
 "nbformat_minor": 2
}
